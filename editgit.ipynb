{
 "cells": [
  {
   "cell_type": "code",
   "execution_count": null,
   "metadata": {},
   "outputs": [],
   "source": [
    "from azure.devops.connection import Connection\n",
    "from msrest.authentication import BasicAuthentication\n",
    "import pprint\n",
    "import os\n",
    "from bs4 import BeautifulSoup\n",
    "import requests\n",
    "import json\n",
    "import jsonschema\n",
    "from jsonschema import validate\n",
    "import re\n",
    "from datetime import datetime"
   ]
  },
  {
   "cell_type": "markdown",
   "metadata": {},
   "source": [
    "### Git Client connection to Azure DevOps\n",
    "\n",
    "The code below uses connects to your Organization and uses a Personal Access Token (PAT) to authenticate to Azure DevOps  \n",
    "\n",
    "You will need to provide:\n",
    "1. the url to your organization \n",
    "2. a PAT against the organization that is listed in the URL\n"
   ]
  },
  {
   "cell_type": "code",
   "execution_count": null,
   "metadata": {},
   "outputs": [],
   "source": [
    "# Get a client (the \"core\" client provides access to projects, teams, etc)\n",
    "def get_clients_projects():\n",
    "\n",
    "    # Fill in with your personal access token and org URL\n",
    "    personal_access_token = os.getenv(\"gitpat\")\n",
    "    organization_url = os.getenv(\"org_url\")\n",
    "\n",
    "    # Create a connection to the org\n",
    "    credentials = BasicAuthentication('', personal_access_token)\n",
    "    connection = Connection(base_url=organization_url, creds=credentials)    \n",
    "    \n",
    "    core_client = connection.clients.get_core_client()\n",
    "    git_client = connection.clients.get_git_client()\n",
    "\n",
    "    # Get the first page of projects\n",
    "    get_projects_response = core_client.get_projects()\n",
    "    return core_client, git_client, get_projects_response"
   ]
  },
  {
   "cell_type": "markdown",
   "metadata": {},
   "source": [
    "### Simple JSON validation\n",
    "\n",
    "This is not 100% accurrate but is sufficient for most use cases in testing whether a string is in fact a valid JSON string."
   ]
  },
  {
   "cell_type": "code",
   "execution_count": null,
   "metadata": {},
   "outputs": [],
   "source": [
    "def json_validator(data):\n",
    "    try:\n",
    "        json.loads(data)\n",
    "        return True\n",
    "    except ValueError as error:\n",
    "        print(\"invalid json: %s\" % error)\n",
    "        return False"
   ]
  },
  {
   "cell_type": "markdown",
   "metadata": {},
   "source": [
    "### Reading all JSON files in the pipeline folder\n",
    "\n",
    "The following will read all files in the pipeline folder for every repository in an organization. Further, it will modify only the specified branch in any repository that has a matching name. The ADF Activity type that is is specifically looking for is the \"copy\" activity. If you need to search on more then a for loop should be created to iterate through all the activities."
   ]
  },
  {
   "cell_type": "code",
   "execution_count": null,
   "metadata": {},
   "outputs": [],
   "source": [
    "def get_all_keys(d):\n",
    "    for key, value in d.items():\n",
    "        yield key\n",
    "        if isinstance(value, dict):\n",
    "            yield from get_all_keys(value)"
   ]
  },
  {
   "cell_type": "code",
   "execution_count": null,
   "metadata": {},
   "outputs": [],
   "source": [
    "def look_in_string(search_string, search_value, end_value):\n",
    "    i=0\n",
    "    search_pairs = []\n",
    "    while i < len(search_string):\n",
    "        start = i\n",
    "        end = len(search_string)\n",
    "        try:\n",
    "            start = search_string.index(search_value,start,end)\n",
    "            carry = search_string.index(end_value,start+1,end)\n",
    "            found_value = search_string[start:carry]\n",
    "            search_pairs.append(found_value)\n",
    "            i += start\n",
    "\n",
    "        except:\n",
    "            print('==================>>>>>>>>>i guess i threw an error<<<<<<<==================')\n",
    "            i = len(search_string)\n",
    "\n",
    "    return search_pairs\n"
   ]
  },
  {
   "cell_type": "code",
   "execution_count": null,
   "metadata": {},
   "outputs": [],
   "source": [
    "def update_repository(file_name):\n",
    "    core_client, git_client, get_projects_response = get_clients_projects()\n",
    "\n",
    "    from base64 import b64encode\n",
    "    from base64 import decode\n",
    "    import requests\n",
    "\n",
    "    from requests.auth import HTTPBasicAuth\n",
    "\n",
    "    branch_to_find = 'test1'\n",
    "\n",
    "    # whole number\n",
    "    retryIntervalInSeconds = 80\n",
    "\n",
    "    # whole number\n",
    "    retry = 33\n",
    "\n",
    "    # string value formatted as Days, Hours, Minutes, Seconds {0.0:00:00}\n",
    "    timeout = \"0.0:4:00\"\n",
    "\n",
    "    git_commit = dict()\n",
    "\n",
    "    index = 0\n",
    "    while get_projects_response is not None:\n",
    "        for project in get_projects_response.value:\n",
    "            repos = git_client.get_repositories(project.id)\n",
    "            for repo in repos:\n",
    "                try:\n",
    "                    branches = git_client.get_branches(repository_id=repo.id)\n",
    "                    for branch in branches:\n",
    "                        if branch.name != branch_to_find:\n",
    "                            #print(f'These are not the droids you are looking for: {branch.name}')\n",
    "                            continue\n",
    "\n",
    "                        commit = git_client.get_commit(repository_id=repo.id, commit_id=branch.commit.commit_id)\n",
    "                        tree = git_client.get_tree(repository_id=repo.id, sha1=commit.tree_id)\n",
    "\n",
    "                        for entry in tree.tree_entries:\n",
    "                            if entry.relative_path == \"pipeline\":\n",
    "                                cc = git_client.get_tree(repository_id=repo.id, sha1=entry.object_id)\n",
    "\n",
    "\n",
    "                                \n",
    "\n",
    "                                for c in cc.tree_entries:\n",
    "                                    #if file_name != c.relative_path:\n",
    "                                    #    continue\n",
    "                                    \n",
    "\n",
    "                                \n",
    "\n",
    "                                    if c.git_object_type == 'blob':\n",
    "                                        try:\n",
    "\n",
    "                                            blob = git_client.get_blob(repository_id=repo.id, sha1=c.object_id)\n",
    "\n",
    "                                            r = requests.get(blob.url, auth=HTTPBasicAuth('',os.getenv(\"gitpat\")))\n",
    "\n",
    "                                            content = json.dumps(json.loads(r.content))\n",
    "\n",
    "                                            what_i_found = look_in_string(content,\"\\\"timeout\\\"\",\",\")\n",
    "                                            for found in what_i_found:\n",
    "                                                content = content.replace(found,f'\"timeout\": \\\"{timeout}\\\"')\n",
    "\n",
    "                                            what_i_found = look_in_string(content,\"\\\"retryIntervalInSeconds\\\"\",\",\")\n",
    "                                            for found in what_i_found:\n",
    "                                                content = content.replace(found,f'\"retryIntervalInSeconds\": {retryIntervalInSeconds}')\n",
    "\n",
    "                                            what_i_found = look_in_string(content,\"\\\"retry\\\"\",\",\")\n",
    "                                            for found in what_i_found:\n",
    "                                                content = content.replace(found,f'\"retry\": {retry}')\n",
    "\n",
    "                                        except Exception as ex:\n",
    "                                            print(f'failed to read json file {ex}')\n",
    "\n",
    "                                        try:\n",
    "                                            content = json.loads(content)\n",
    "                                        except Exception as mm:\n",
    "                                            print(f'error on converting to dict: {mm}')\n",
    "\n",
    "\n",
    "                                        my_json = json.dumps(content,indent=4)\n",
    "\n",
    "                                        file_path = f\"/{entry.relative_path +'/'+ c.relative_path}\"\n",
    "\n",
    "                                        stage_dict = dict({file_path:my_json})\n",
    "                                        git_commit.update(stage_dict)\n",
    "\n",
    "\n",
    "                                        #push = {\"refUpdates\":[{\"name\":\"refs/heads/\" + branch.name,\"oldObjectId\": commit.commit_id }],\"commits\":[{\"comment\":\"Updating readme via python and Azure DevOps SDK: \" + datetime.now().strftime(\"%Y %B, %A %w, %H hours %M minutes\"),\"changes\":[{\"changeType\":\"edit\",\"item\":{\"path\":\"/\" + entry.relative_path + \"/\" + c.relative_path},\"newContent\":{\"content\": my_json ,\"contentType\":\"rawText\"}}]}]}\n",
    "\n",
    "                                        #git_client.create_push(\n",
    "                                        #    repository_id=repo.id, push=push\n",
    "                                        #)\n",
    "\n",
    "\n",
    "                except Exception as e:\n",
    "                    print(e)\n",
    "            index += 1\n",
    "\n",
    "            #project.\n",
    "        if get_projects_response.continuation_token is not None and get_projects_response.continuation_token != \"\":\n",
    "            # Get the next page of projects\n",
    "            get_projects_response = core_client.get_projects(continuation_token=get_projects_response.continuation_token)\n",
    "\n",
    "        else:\n",
    "            # All projects have been retrieved\n",
    "            get_projects_response = None\n",
    "\n",
    "    return git_commit"
   ]
  },
  {
   "cell_type": "code",
   "execution_count": null,
   "metadata": {},
   "outputs": [],
   "source": [
    "core_client, git_client, get_projects_response = get_clients_projects()\n",
    "\n",
    "from base64 import b64encode\n",
    "from base64 import decode\n",
    "import requests\n",
    "\n",
    "from requests.auth import HTTPBasicAuth\n",
    "\n",
    "branch_to_find = 'test1'\n",
    "\n",
    "# whole number\n",
    "retryIntervalInSeconds = 81\n",
    "\n",
    "# whole number\n",
    "retry = 10\n",
    "\n",
    "# string value formatted as Days, Hours, Minutes, Seconds {0.0:00:00}\n",
    "timeout = \"0.0:21:00\"\n",
    "\n",
    "files_in_pipeline=[]\n",
    "index = 0\n",
    "while get_projects_response is not None:\n",
    "    for project in get_projects_response.value:\n",
    "        repos = git_client.get_repositories(project.id)\n",
    "        for repo in repos:\n",
    "            try:\n",
    "                branches = git_client.get_branches(repository_id=repo.id)\n",
    "                for branch in branches:\n",
    "                    if branch.name != branch_to_find:\n",
    "                        continue\n",
    "\n",
    "                    commit = git_client.get_commit(repository_id=repo.id, commit_id=branch.commit.commit_id)\n",
    "                    tree = git_client.get_tree(repository_id=repo.id, sha1=commit.tree_id)\n",
    "\n",
    "                    for entry in tree.tree_entries:\n",
    "                        if entry.relative_path == \"pipeline\":\n",
    "                            cc = git_client.get_tree(repository_id=repo.id, sha1=entry.object_id)\n",
    "                            for c in cc.tree_entries:\n",
    "                                files_in_pipeline.append(c.relative_path)\n",
    "\n",
    "            except Exception as e:\n",
    "                print(e)\n",
    "        index += 1\n",
    "\n",
    "        #project.\n",
    "    if get_projects_response.continuation_token is not None and get_projects_response.continuation_token != \"\":\n",
    "        # Get the next page of projects\n",
    "        get_projects_response = core_client.get_projects(continuation_token=get_projects_response.continuation_token)\n",
    "\n",
    "    else:\n",
    "        # All projects have been retrieved\n",
    "        get_projects_response = None\n"
   ]
  },
  {
   "cell_type": "code",
   "execution_count": null,
   "metadata": {},
   "outputs": [],
   "source": [
    "for file_name in files_in_pipeline:\n",
    "    print(file_name)\n",
    "    update_repository(file_name=file_name)"
   ]
  },
  {
   "cell_type": "code",
   "execution_count": null,
   "metadata": {},
   "outputs": [],
   "source": [
    "output = update_repository(file_name='first-pipeline.json')"
   ]
  },
  {
   "cell_type": "code",
   "execution_count": null,
   "metadata": {},
   "outputs": [],
   "source": [
    "for k,v in output.items():\n",
    "    print(k)"
   ]
  },
  {
   "cell_type": "code",
   "execution_count": null,
   "metadata": {},
   "outputs": [],
   "source": [
    "parameter_1 = \"Foo\"\n",
    "parameter_2 = \"Bar\"\n",
    "sql_string = 'Hello {parameter_1} this is {parameter_2}; '\n",
    "formatted_sql = sql_string.format(**locals())\n",
    "print(sql_string)\n",
    "print(formatted_sql)\n",
    "\n",
    "tvars = { 'parameter_1': 'Foo', 'parameter_2': 'Bar' }\n",
    "formatted_sql = sql_string.format(**tvars)\n",
    "print(formatted_sql)\n"
   ]
  },
  {
   "cell_type": "code",
   "execution_count": 1,
   "metadata": {},
   "outputs": [],
   "source": [
    "#from utils.json_builder import refupdates,commits\n",
    "from utils.json_builder import Change\n",
    "import json\n",
    "\n",
    "\n",
    "mychange = Change(branch_name=\"test1\", commit_id=\"skdfk293492k2\", comment=\"update adf pipelines\")\n"
   ]
  },
  {
   "cell_type": "code",
   "execution_count": 2,
   "metadata": {},
   "outputs": [],
   "source": [
    "mychange.add_content(path=\"pipeline/pipe1.json\", content=\"message one\")\n",
    "mychange.add_content(path=\"pipeline/pipe2.json\", content=\"message two\")\n",
    "mychange.add_content(path=\"pipeline/pipe3.json\", content=\"message three\")\n",
    "mychange.add_content(path=\"pipeline/pipe4.json\", content=\"message four\")\n"
   ]
  },
  {
   "cell_type": "code",
   "execution_count": 3,
   "metadata": {},
   "outputs": [
    {
     "name": "stdout",
     "output_type": "stream",
     "text": [
      "{\"refUpdates\": [{\"name\": \"refs/heads/test1\", \"oldObjectId\": \"skdfk293492k2\"}], \"commits\": [{\"comment\": \"update adf pipelines{\"changeType\": \"edit\", \"item\": {\"path\": \"/pipeline/pipe1.json\"}, \"newContent\": {\"content\": \"message one\", \"contentType\": \"rawtext\"}}\",\"changes\": [{\"changeType\": \"edit\", \"item\": {\"path\": \"/pipeline/pipe2.json\"}, \"newContent\": {\"content\": \"message two\", \"contentType\": \"rawtext\"}}\",\"changes\": [{\"changeType\": \"edit\", \"item\": {\"path\": \"/pipeline/pipe3.json\"}, \"newContent\": {\"content\": \"message three\", \"contentType\": \"rawtext\"}}\",\"changes\": [{\"changeType\": \"edit\", \"item\": {\"path\": \"/pipeline/pipe4.json\"}, \"newContent\": {\"content\": \"message four\", \"contentType\": \"rawtext\"}}]}]}\n"
     ]
    }
   ],
   "source": [
    "fjd = mychange.git_push()\n",
    "print(fjd)"
   ]
  },
  {
   "cell_type": "code",
   "execution_count": null,
   "metadata": {},
   "outputs": [],
   "source": []
  },
  {
   "cell_type": "code",
   "execution_count": null,
   "metadata": {},
   "outputs": [],
   "source": [
    "f'\n",
    "{\n",
    "  \"refUpdates\": [\n",
    "    {\n",
    "      \"name\": \"refs/heads/{branch.name}\",\n",
    "      \"oldObjectId\": \"{commit.commit_id}\"\n",
    "    }\n",
    "  ],\n",
    "  \"commits\": [\n",
    "    {\n",
    "      \"comment\": \"Updating files: { datetime.now().strftime(\"%Y %B, %A %w, %H hours %M minutes\")}\",\n",
    "      \"changes\": [\n",
    "        {\n",
    "          \"changeType\": \"edit\",\n",
    "          \"item\": {\n",
    "            \"path\": \"/\" {entry.relative_path + \"/\" + c.relative_path}\"\n",
    "          },\n",
    "          \"newContent\": {\n",
    "            \"content\": \"{my_json}\",\n",
    "            \"contentType\": \"rawtext\"\n",
    "          }\n",
    "        },\n",
    "        {\n",
    "          \"changeType\": \"add\",\n",
    "          \"item\": {\n",
    "            \"path\": \"/tasks/content/newtasks.md\"\n",
    "          },\n",
    "          \"newContent\": {\n",
    "            \"content\": \"# New Tasks\\n\\nTBD\",\n",
    "            \"contentType\": \"rawtext\"\n",
    "          }\n",
    "        },\n",
    "        {\n",
    "          \"changeType\": \"add\",\n",
    "          \"item\": {\n",
    "            \"path\": \"/tasks/content/inactivetasks.md\"\n",
    "          },\n",
    "          \"newContent\": {\n",
    "            \"content\": \"# Inactive Tasks\\n\\nTBD\",\n",
    "            \"contentType\": \"rawtext\"\n",
    "          }\n",
    "        }\n",
    "      ]\n",
    "    }\n",
    "  ]\n",
    "}\n",
    "'"
   ]
  },
  {
   "cell_type": "code",
   "execution_count": null,
   "metadata": {},
   "outputs": [],
   "source": [
    "'\n",
    " {\"refUpdates\":[{\"name\":\"refs/heads/\" + branch.name,\"oldObjectId\": commit.commit_id }],\"commits\":[{\"comment\":\"Updating readme via python and Azure DevOps SDK: \" + datetime.now().strftime(\"%Y %B, %A %w, %H hours %M minutes\"),\"changes\":[{\"changeType\":\"edit\",\"item\":{\"path\":\"/\" + entry.relative_path + \"/\" + c.relative_path},\"newContent\":{\"content\": my_json ,\"contentType\":\"rawText\"}}]}]}\n",
    "'"
   ]
  }
 ],
 "metadata": {
  "kernelspec": {
   "display_name": "Python 3.8.13 ('azure_env')",
   "language": "python",
   "name": "python3"
  },
  "language_info": {
   "codemirror_mode": {
    "name": "ipython",
    "version": 3
   },
   "file_extension": ".py",
   "mimetype": "text/x-python",
   "name": "python",
   "nbconvert_exporter": "python",
   "pygments_lexer": "ipython3",
   "version": "3.8.13"
  },
  "orig_nbformat": 4,
  "vscode": {
   "interpreter": {
    "hash": "4ff82143f1d5ae80710ecca5250cea9cd9746cfc5f5d6265f77f9a1a3c5ce993"
   }
  }
 },
 "nbformat": 4,
 "nbformat_minor": 2
}
