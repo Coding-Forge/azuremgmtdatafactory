{
 "cells": [
  {
   "cell_type": "code",
   "execution_count": 1,
   "metadata": {},
   "outputs": [],
   "source": [
    "from azure.devops.connection import Connection\n",
    "from msrest.authentication import BasicAuthentication\n",
    "import pprint\n",
    "import os\n",
    "from bs4 import BeautifulSoup\n",
    "import requests\n",
    "import json\n",
    "import jsonschema\n",
    "from jsonschema import validate\n",
    "import re\n",
    "from datetime import datetime"
   ]
  },
  {
   "cell_type": "markdown",
   "metadata": {},
   "source": [
    "### Git Client connection to Azure DevOps\n",
    "\n",
    "The code below uses connects to your Organization and uses a Personal Access Token (PAT) to authenticate to Azure DevOps  \n",
    "\n",
    "You will need to provide:\n",
    "1. the url to your organization \n",
    "2. a PAT against the organization that is listed in the URL\n"
   ]
  },
  {
   "cell_type": "code",
   "execution_count": 3,
   "metadata": {},
   "outputs": [],
   "source": [
    "# Get a client (the \"core\" client provides access to projects, teams, etc)\n",
    "def get_clients_projects():\n",
    "\n",
    "    # Fill in with your personal access token and org URL\n",
    "    personal_access_token = os.getenv(\"gitpat\")\n",
    "    organization_url = os.getenv(\"org_url\")\n",
    "\n",
    "    # Create a connection to the org\n",
    "    credentials = BasicAuthentication('', personal_access_token)\n",
    "    connection = Connection(base_url=organization_url, creds=credentials)    \n",
    "    \n",
    "    core_client = connection.clients.get_core_client()\n",
    "    git_client = connection.clients.get_git_client()\n",
    "\n",
    "    # Get the first page of projects\n",
    "    get_projects_response = core_client.get_projects()\n",
    "    return core_client, git_client, get_projects_response"
   ]
  },
  {
   "cell_type": "markdown",
   "metadata": {},
   "source": [
    "### Simple JSON validation\n",
    "\n",
    "This is not 100% accurrate but is sufficient for most use cases in testing whether a string is in fact a valid JSON string."
   ]
  },
  {
   "cell_type": "code",
   "execution_count": 4,
   "metadata": {},
   "outputs": [],
   "source": [
    "def json_validator(data):\n",
    "    try:\n",
    "        json.loads(data)\n",
    "        return True\n",
    "    except ValueError as error:\n",
    "        print(\"invalid json: %s\" % error)\n",
    "        return False"
   ]
  },
  {
   "cell_type": "markdown",
   "metadata": {},
   "source": [
    "### Reading all JSON files in the pipeline folder\n",
    "\n",
    "The following will read all files in the pipeline folder for every repository in an organization. Further, it will modify only the specified branch in any repository that has a matching name. The ADF Activity type that is is specifically looking for is the \"copy\" activity. If you need to search on more then a for loop should be created to iterate through all the activities."
   ]
  },
  {
   "cell_type": "code",
   "execution_count": null,
   "metadata": {},
   "outputs": [],
   "source": [
    "core_client, git_client, get_projects_response = get_clients_projects()\n",
    "\n",
    "from base64 import b64encode\n",
    "from base64 import decode\n",
    "\n",
    "branch_to_find = 'test3a'\n",
    "\n",
    "# whole number\n",
    "retryIntervalInSeconds = 50\n",
    "\n",
    "# whole number\n",
    "retry = 1\n",
    "\n",
    "# string value formatted as Days, Hours, Minutes, Seconds {0.0:00:00}\n",
    "timeout = \"0:05:00\"\n",
    "\n",
    "index = 0\n",
    "while get_projects_response is not None:\n",
    "    for project in get_projects_response.value:\n",
    "        repos = git_client.get_repositories(project.id)\n",
    "        for repo in repos:\n",
    "            try:\n",
    "                branches = git_client.get_branches(repository_id=repo.id)\n",
    "                for branch in branches:\n",
    "                    if branch.name != branch_to_find:\n",
    "                        print(f'These are not the droids you are looking for: {branch.name}')\n",
    "                        continue\n",
    "\n",
    "                    print(f'Am I in test3a: {\"test3a\" in branch.name}')\n",
    "                    commit = git_client.get_commit(repository_id=repo.id, commit_id=branch.commit.commit_id)\n",
    "                    tree = git_client.get_tree(repository_id=repo.id, sha1=commit.tree_id)\n",
    "\n",
    "                    for entry in tree.tree_entries:\n",
    "                        if entry.relative_path == \"pipeline\":\n",
    "                            cc = git_client.get_tree(repository_id=repo.id, sha1=entry.object_id)\n",
    "                            for c in cc.tree_entries:\n",
    "                                if c.git_object_type == 'blob':\n",
    "                                    blob = git_client.get_blob_content(repository_id=repo.id, sha1=c.object_id)\n",
    "                                    try:\n",
    "                                        data = json.loads(next(blob))\n",
    "                                    except Exception as ex:\n",
    "                                        print(f'failed to read json file {ex}')\n",
    "                                    s = json.dumps(data)\n",
    "                                    print(f'what did it look like before {s}')\n",
    "\n",
    "                                    if s.index(\"\\\"type\\\": \\\"Copy\\\"\"):               \n",
    "\n",
    "                                        print(f'branch name is {branch.name}')\n",
    "                                        found_value = s[s.index(\"\\\"timeout\\\"\"): s.find(\",\", s.index(\"timeout\"))]\n",
    "                                        s = s.replace(found_value,f'\"timeout\": {timeout}') \n",
    "                                        found_value = s[s.index(\"\\\"retryIntervalInSeconds\\\"\"): s.find(\",\", s.index(\"retryIntervalInSeconds\"))]\n",
    "                                        s = s.replace(found_value,f'\"retryIntervalInSeconds\": {retryIntervalInSeconds}')\n",
    "                                        found_value = s[s.index(\"\\\"retry\\\"\"): s.find(\",\", s.index(\"retry\"))]\n",
    "                                        s = s.replace(found_value,f'\"retry\": {retry}')\n",
    "\n",
    "                                        try:\n",
    "                                            s = json.loads(s)\n",
    "                                        except Exception as mm:\n",
    "                                            print(f'error on converting to dict: {mm}')\n",
    "                                        \n",
    "                                        # this is close but AzDO doesn't decode this and leaves it as bytes\n",
    "                                        # my_json = b64encode(json.dumps(s,indent=4).encode('ascii'))\n",
    "                                        # string_byte_json = str(my_json).replace(\"'b\",\"\").replace(\"'\",\"\")\n",
    "\n",
    "                                        my_json =   json.dumps(s,indent=4)\n",
    "\n",
    "                                        push = {\"refUpdates\":[{\"name\":\"refs/heads/\" + branch.name,\"oldObjectId\": commit.commit_id }],\"commits\":[{\"comment\":\"Updating readme via python and Azure DevOps SDK: \" + datetime.now().strftime(\"%Y %B, %A %w, %H hours %M minutes\")  ,\"changes\":[{\"changeType\":\"edit\",\"item\":{\"path\":\"/pipeline/\" + c.relative_path},\"newContent\":{\"content\": my_json ,\"contentType\":\"rawText\"}}]}]}\n",
    "\n",
    "                                        git_client.create_push(\n",
    "                                            repository_id=repo.id, push=push\n",
    "                                        )\n",
    "\n",
    "            except Exception as e:\n",
    "                print(e)\n",
    "        index += 1\n",
    "\n",
    "        #project.\n",
    "    if get_projects_response.continuation_token is not None and get_projects_response.continuation_token != \"\":\n",
    "        # Get the next page of projects\n",
    "        get_projects_response = core_client.get_projects(continuation_token=get_projects_response.continuation_token)\n",
    "\n",
    "    else:\n",
    "        # All projects have been retrieved\n",
    "        get_projects_response = None"
   ]
  }
 ],
 "metadata": {
  "kernelspec": {
   "display_name": "Python 3.8.13 ('azure_env')",
   "language": "python",
   "name": "python3"
  },
  "language_info": {
   "codemirror_mode": {
    "name": "ipython",
    "version": 3
   },
   "file_extension": ".py",
   "mimetype": "text/x-python",
   "name": "python",
   "nbconvert_exporter": "python",
   "pygments_lexer": "ipython3",
   "version": "3.8.13"
  },
  "orig_nbformat": 4,
  "vscode": {
   "interpreter": {
    "hash": "4ff82143f1d5ae80710ecca5250cea9cd9746cfc5f5d6265f77f9a1a3c5ce993"
   }
  }
 },
 "nbformat": 4,
 "nbformat_minor": 2
}
