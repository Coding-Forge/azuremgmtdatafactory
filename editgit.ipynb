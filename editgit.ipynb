{
 "cells": [
  {
   "cell_type": "code",
   "execution_count": 1,
   "metadata": {},
   "outputs": [],
   "source": [
    "from azure.devops.connection import Connection\n",
    "from msrest.authentication import BasicAuthentication\n",
    "import pprint\n",
    "import os\n",
    "from bs4 import BeautifulSoup\n",
    "import requests\n",
    "import json\n",
    "import re"
   ]
  },
  {
   "cell_type": "code",
   "execution_count": 2,
   "metadata": {},
   "outputs": [],
   "source": [
    "# Get a client (the \"core\" client provides access to projects, teams, etc)\n",
    "def get_clients_projects():\n",
    "\n",
    "    # Fill in with your personal access token and org URL\n",
    "    personal_access_token = os.getenv(\"gitpat\")\n",
    "    organization_url = 'https://dev.azure.com/supportedcustomers'\n",
    "\n",
    "    # Create a connection to the org\n",
    "    credentials = BasicAuthentication('', personal_access_token)\n",
    "    connection = Connection(base_url=organization_url, creds=credentials)    \n",
    "    \n",
    "    core_client = connection.clients.get_core_client()\n",
    "    git_client = connection.clients.get_git_client()\n",
    "\n",
    "    # Get the first page of projects\n",
    "    get_projects_response = core_client.get_projects()\n",
    "    return core_client, git_client, get_projects_response"
   ]
  },
  {
   "cell_type": "code",
   "execution_count": 3,
   "metadata": {},
   "outputs": [],
   "source": [
    "def recurse_git_tree(repo_id, object_id=None):\n",
    "    print(f'step one')\n",
    "    tree = git_client.get_tree(repository_id=repo.id, sha1=object_id)\n",
    "\n",
    "    for entry in tree.tree_entries:\n",
    "        if entry.relative_path==\"pipeline\":\n",
    "            print(f'step two')\n",
    "            recurse_git_tree(repo_id=repo_id, object_id=entry.object_id)\n",
    "        elif entry.git_object_type =='blob':\n",
    "            print(f'step three')\n",
    "            blob = git_client.get_blob_content(repository_id=repo.id, sha1=entry.object_id)\n",
    "            s = json.dumps(json.loads(next(blob)))\n",
    "\n",
    "            try:\n",
    "                if s.index(\"\\\"type\\\": \\\"Copy\\\"\")>0:               \n",
    "                    print(f'before: {s}')\n",
    "                    found_value = s[s.index(\"\\\"timeout\\\"\"): s.find(\",\", s.index(\"timeout\"))]\n",
    "                    s = s.replace(found_value,'\"timeout\": \"5:00:00\"')\n",
    "                    found_value = s[s.index(\"\\\"retryIntervalInSeconds\\\"\"): s.find(\",\", s.index(\"retryIntervalInSeconds\"))]\n",
    "                    s = s.replace(found_value,'\"retryIntervalInSeconds\": \"2200\"')\n",
    "                    found_value = s[s.index(\"\\\"retry\\\"\"): s.find(\",\", s.index(\"retry\"))]\n",
    "                    s = s.replace(found_value,'\"retry\": \"1\"')\n",
    "                    print(f'after: {s}')\n",
    "            except Exception as e:\n",
    "                print(e)\n",
    "                continue\n",
    "        else:\n",
    "            recurse_git_tree(repo_id=repo_id, object_id=entry.object_id)\n"
   ]
  },
  {
   "cell_type": "markdown",
   "metadata": {},
   "source": [
    "### Work in progress"
   ]
  },
  {
   "cell_type": "code",
   "execution_count": null,
   "metadata": {},
   "outputs": [],
   "source": [
    "core_client, git_client, get_projects_response = get_clients_projects()\n",
    "\n",
    "index = 0\n",
    "while get_projects_response is not None:\n",
    "    print('did i get')\n",
    "    for project in get_projects_response.value:\n",
    "        repos = git_client.get_repositories(project.id)\n",
    "        for repo in repos:\n",
    "            if repo.name==\"noname\":\n",
    "                try:\n",
    "                    branches = git_client.get_branches(repository_id=repo.id)\n",
    "                    for branch in branches:\n",
    "                        print(branch.commit.commit_id)\n",
    "                        print(f'The repository {repo.name} has the following branch {branch.name}')\n",
    "                        commit = git_client.get_commit(repository_id=repo.id, commit_id=branch.commit.commit_id)\n",
    "\n",
    "                        recurse_git_tree(repo_id=repo.id, object_id=commit.tree_id)\n",
    "\n",
    "                except Exception as e:\n",
    "                    print(e)\n",
    "                    continue\n",
    "            index += 1\n",
    "    if get_projects_response.continuation_token is not None and get_projects_response.continuation_token != \"\":\n",
    "        # Get the next page of projects\n",
    "        get_projects_response = core_client.get_projects(continuation_token=get_projects_response.continuation_token)\n",
    "\n",
    "    else:\n",
    "        # All projects have been retrieved\n",
    "        get_projects_response = None"
   ]
  },
  {
   "cell_type": "markdown",
   "metadata": {},
   "source": [
    "The repository noname has the following branch adf2_test1\n",
    "{\n",
    "    'additional_properties': {}, \n",
    "    'git_object_type': 'tree', \n",
    "    'mode': '40000', \n",
    "    'object_id': 'aa4e7709a0d2577a07e31358f06dac9657d00963', \n",
    "    'relative_path': 'pipeline', \n",
    "    'size': 89, \n",
    "    'url': 'https://dev.azure.com/SupportedCustomers/e6091a89-c16c-440b-a71b-e4d9151542a1/_apis/git/repositories/6b058b4d-221d-4ca1-905b-5f2eda2a2462/trees/aa4e7709a0d2577a07e31358f06dac9657d00963'\n",
    "}"
   ]
  },
  {
   "cell_type": "code",
   "execution_count": 5,
   "metadata": {},
   "outputs": [
    {
     "name": "stdout",
     "output_type": "stream",
     "text": [
      "{'additional_properties': {}, 'ahead_count': 1, 'behind_count': 3, 'commit': <azure.devops.v5_1.git.models.GitCommitRef object at 0x7faed65597f0>, 'is_base_version': False, 'name': 'adf2_test1'}\n",
      "The repository Ecolab has the following branch adf2_test1\n",
      "A potentially dangerous Request.Path value was detected from the client (:).\n",
      "{'additional_properties': {}, 'ahead_count': 0, 'behind_count': 0, 'commit': <azure.devops.v5_1.git.models.GitCommitRef object at 0x7faed656ba60>, 'is_base_version': True, 'name': 'main'}\n",
      "The repository PBI_Pipelines has the following branch main\n",
      "A potentially dangerous Request.Path value was detected from the client (:).\n",
      "{'additional_properties': {}, 'ahead_count': 1, 'behind_count': 3, 'commit': <azure.devops.v5_1.git.models.GitCommitRef object at 0x7faed6526880>, 'is_base_version': False, 'name': 'adf_publish'}\n",
      "The repository Data-Factory has the following branch adf_publish\n",
      "A potentially dangerous Request.Path value was detected from the client (:).\n",
      "{'additional_properties': {}, 'ahead_count': 0, 'behind_count': 0, 'commit': <azure.devops.v5_1.git.models.GitCommitRef object at 0x7faed656bca0>, 'is_base_version': True, 'name': 'master'}\n",
      "The repository Coding-Forge has the following branch master\n",
      "A potentially dangerous Request.Path value was detected from the client (:).\n",
      "TF401019: The Git repository with name or identifier 25DA0C4C-00E2-465D-9682-ACF24C1F86A5 does not exist or you do not have permissions for the operation you are attempting.\n"
     ]
    }
   ],
   "source": [
    "core_client, git_client, get_projects_response = get_clients_projects()\n",
    "\n",
    "index = 0\n",
    "while get_projects_response is not None:\n",
    "    for project in get_projects_response.value:\n",
    "        repos = git_client.get_repositories(project.id)\n",
    "        for repo in repos:\n",
    "            try:\n",
    "                branches = git_client.get_branches(repository_id=repo.id)\n",
    "                for branch in branches:\n",
    "                    print(branch)\n",
    "                    #print(branch.commit.commit_id)\n",
    "                    print(f'The repository {repo.name} has the following branch {branch.name}')\n",
    "                    commit = git_client.get_commit(repository_id=repo.id, commit_id=branch.commit.commit_id)\n",
    "\n",
    "                    print(f'Is this the oldobjectId that I am looking for? {commit.commit_id}')\n",
    "                    tree = git_client.get_tree(repository_id=repo.id, sha1=commit.tree_id)\n",
    "\n",
    "                    #refs = git_client.get_refs(repo)\n",
    "                    #print(f'This is the commit: {refs.commit}')\n",
    "\n",
    "                    for entry in tree.tree_entries:\n",
    "                        if entry.relative_path == \"pipeline\":\n",
    "                            cc = git_client.get_tree(repository_id=repo.id, sha1=entry.object_id)\n",
    "                            for c in cc.tree_entries:\n",
    "                                if c.git_object_type == 'blob':\n",
    "                                    blob = git_client.get_blob_content(repository_id=repo.id, sha1=c.object_id)\n",
    "                                    data = json.loads(next(blob))\n",
    "\n",
    "                                    for d in data:\n",
    "                                        print(f'what is the type value of data[d] {type(data[d])}')\n",
    "                                        if type(data[d])==\"str\":\n",
    "                                            print(f'this is the value of data[d] {data[d]}')\n",
    "\n",
    "\n",
    "                                    s = json.dumps(data)\n",
    "\n",
    "                                    if s.index(\"\\\"type\\\": \\\"Copy\\\"\"):               \n",
    "                                        print(f'before: {s}')\n",
    "\n",
    "                                        found_value = s[s.index(\"\\\"timeout\\\"\"): s.find(\",\", s.index(\"timeout\"))]\n",
    "                                        s = s.replace(found_value,'\"timeout\": \"5:00:00\"')\n",
    "                                        found_value = s[s.index(\"\\\"retryIntervalInSeconds\\\"\"): s.find(\",\", s.index(\"retryIntervalInSeconds\"))]\n",
    "                                        s = s.replace(found_value,'\"retryIntervalInSeconds\": \"2200\"')\n",
    "                                        found_value = s[s.index(\"\\\"retry\\\"\"): s.find(\",\", s.index(\"retry\"))]\n",
    "                                        s = s.replace(found_value,'\"retry\": \"1\"')\n",
    "\n",
    "                                        print(f'after: {s}')\n",
    "\n",
    "            except Exception as e:\n",
    "                print(e)\n",
    "                continue\n",
    "        index += 1\n",
    "\n",
    "        #project.\n",
    "    if get_projects_response.continuation_token is not None and get_projects_response.continuation_token != \"\":\n",
    "        # Get the next page of projects\n",
    "        get_projects_response = core_client.get_projects(continuation_token=get_projects_response.continuation_token)\n",
    "\n",
    "    else:\n",
    "        # All projects have been retrieved\n",
    "        get_projects_response = None"
   ]
  },
  {
   "cell_type": "code",
   "execution_count": null,
   "metadata": {},
   "outputs": [],
   "source": [
    "#git_client.create_thread(repository_id=repo.id, comment_thread='this is something')\n",
    "git_client.update_repository(repository_id=repo.id)"
   ]
  },
  {
   "cell_type": "code",
   "execution_count": null,
   "metadata": {},
   "outputs": [],
   "source": [
    "organization_url = 'https://dev.azure.com/supportedcustomers'\n",
    "pull_request_id=git_client.create_pull_request(repository_id=repo.id, git_pull_request_to_create=[organization_url,'test1'])\n",
    "#git_client.get_pull_request(repository_id=repo.id, pull_request_id=pull_request_id)"
   ]
  }
 ],
 "metadata": {
  "interpreter": {
   "hash": "425910ad7b0a9c243ce82a976fc25304132f307acf03a97642b6c5bd717ea908"
  },
  "kernelspec": {
   "display_name": "Python 3.8.13 ('noname_adf')",
   "language": "python",
   "name": "python3"
  },
  "language_info": {
   "codemirror_mode": {
    "name": "ipython",
    "version": 3
   },
   "file_extension": ".py",
   "mimetype": "text/x-python",
   "name": "python",
   "nbconvert_exporter": "python",
   "pygments_lexer": "ipython3",
   "version": "3.8.13"
  },
  "orig_nbformat": 4
 },
 "nbformat": 4,
 "nbformat_minor": 2
}
